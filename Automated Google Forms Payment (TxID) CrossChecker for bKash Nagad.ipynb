{
 "cells": [
  {
   "cell_type": "markdown",
   "metadata": {},
   "source": [
    "# Input File Names"
   ]
  },
  {
   "cell_type": "code",
   "execution_count": 44,
   "metadata": {},
   "outputs": [],
   "source": [
    "import pandas as pd\n",
    "import numpy as np\n",
    "\n",
    "Google_Forms_File_Name = 'Complete_List.xlsx' # Name of downloaded file from Google Forms in Excel format\n",
    "AllSMS_CVS_File_Name =  'final_sms.csv'   # File Generated from Super Backup"
   ]
  },
  {
   "cell_type": "markdown",
   "metadata": {},
   "source": [
    "# Read Data from Google Forms File"
   ]
  },
  {
   "cell_type": "code",
   "execution_count": 45,
   "metadata": {},
   "outputs": [
    {
     "name": "stdout",
     "output_type": "stream",
     "text": [
      "Totle Number of Entries: 749\n"
     ]
    }
   ],
   "source": [
    "table = pd.read_excel(Google_Forms_File_Name) # Read the Excel File\n",
    "txidlist = table[[\"Name\", \"Transaction Medium\", \"Txn Id:\"]] # Select the tables that I want to display or work on\n",
    "List_GoogleForms_TxIDs = list(txidlist['Txn Id:']) #Put all the TxID from Google Forms in a List\n",
    "\n",
    "print(\"Totle Number of Entries:\", len(List_GoogleForms_TxIDs) )"
   ]
  },
  {
   "cell_type": "markdown",
   "metadata": {},
   "source": [
    "# View of the Table with TxID that we are dealing with"
   ]
  },
  {
   "cell_type": "code",
   "execution_count": 46,
   "metadata": {},
   "outputs": [
    {
     "data": {
      "text/html": [
       "<div>\n",
       "<style scoped>\n",
       "    .dataframe tbody tr th:only-of-type {\n",
       "        vertical-align: middle;\n",
       "    }\n",
       "\n",
       "    .dataframe tbody tr th {\n",
       "        vertical-align: top;\n",
       "    }\n",
       "\n",
       "    .dataframe thead th {\n",
       "        text-align: right;\n",
       "    }\n",
       "</style>\n",
       "<table border=\"1\" class=\"dataframe\">\n",
       "  <thead>\n",
       "    <tr style=\"text-align: right;\">\n",
       "      <th></th>\n",
       "      <th>Name</th>\n",
       "      <th>Transaction Medium</th>\n",
       "      <th>Txn Id:</th>\n",
       "    </tr>\n",
       "  </thead>\n",
       "  <tbody>\n",
       "    <tr>\n",
       "      <th>296</th>\n",
       "      <td>Name 294</td>\n",
       "      <td>bkash</td>\n",
       "      <td>01883697511</td>\n",
       "    </tr>\n",
       "    <tr>\n",
       "      <th>194</th>\n",
       "      <td>Name 192</td>\n",
       "      <td>bkash</td>\n",
       "      <td>8AF3WJURJV</td>\n",
       "    </tr>\n",
       "    <tr>\n",
       "      <th>516</th>\n",
       "      <td>Name 514</td>\n",
       "      <td>bkash</td>\n",
       "      <td>8AJ324KZB1</td>\n",
       "    </tr>\n",
       "    <tr>\n",
       "      <th>625</th>\n",
       "      <td>Name 623</td>\n",
       "      <td>bkash</td>\n",
       "      <td>8AK62P7GEC</td>\n",
       "    </tr>\n",
       "    <tr>\n",
       "      <th>75</th>\n",
       "      <td>Name 73</td>\n",
       "      <td>Nogod</td>\n",
       "      <td>70NUT1I6</td>\n",
       "    </tr>\n",
       "  </tbody>\n",
       "</table>\n",
       "</div>"
      ],
      "text/plain": [
       "         Name Transaction Medium      Txn Id:\n",
       "296  Name 294              bkash  01883697511\n",
       "194  Name 192              bkash   8AF3WJURJV\n",
       "516  Name 514              bkash   8AJ324KZB1\n",
       "625  Name 623              bkash   8AK62P7GEC\n",
       "75    Name 73              Nogod     70NUT1I6"
      ]
     },
     "execution_count": 46,
     "metadata": {},
     "output_type": "execute_result"
    }
   ],
   "source": [
    "txidlist.sample(5)"
   ]
  },
  {
   "cell_type": "markdown",
   "metadata": {},
   "source": [
    "# Read The SMS"
   ]
  },
  {
   "cell_type": "code",
   "execution_count": 47,
   "metadata": {},
   "outputs": [],
   "source": [
    "sms = pd.read_csv(AllSMS_CVS_File_Name)\n",
    "\n",
    "bKashList = sms.loc[sms['phoneNumber'] == 'bKash' ][[\"phoneNumber\", \"message\"]] # Seperate bKash SMS\n",
    "NagadList = sms.loc[sms['phoneNumber'] == 'NAGAD' ][[\"phoneNumber\", \"message\"]] # Seperate Nagad SMS\n",
    "\n",
    "BaN = [bKashList, NagadList] # Put both Bkash & Nagad Lists together\n",
    "MergeBkashNagad = pd.concat(BaN) # Merge them together\n",
    "\n",
    "All_Bkash_Nagad_SMS = list(bKashList['message']) #Convert the SMS to list"
   ]
  },
  {
   "cell_type": "code",
   "execution_count": 48,
   "metadata": {},
   "outputs": [
    {
     "name": "stdout",
     "output_type": "stream",
     "text": [
      "\n",
      "Total Automatic Match -  533\n",
      "Total Automatic unmatch -  216\n"
     ]
    }
   ],
   "source": [
    "success_count = 0\n",
    "unmatch = 0\n",
    "mismatch_table = pd.DataFrame( [[\"Name\", \"Transaction Medium\", \"Google Forms Entry\"]] )\n",
    "match_table = pd.DataFrame( [[\"Name\", \"Transaction Medium\", \"Txn Id:\"]] )\n",
    "\n",
    "for indx, row_data in txidlist.iterrows(): # Itterate over the Google Forms Table\n",
    "                                           # | row_data[0]: Name | row_data[1]: Transaction Medium | row_data[2]: Txn Id |\n",
    "    count = False\n",
    "    for each_sms in All_Bkash_Nagad_SMS: # Select each each SMS\n",
    "        if row_data[2] in each_sms.split(' '): # Break words in list and check if any TxID match with any word\n",
    "            success_count = success_count + 1\n",
    "            count = True\n",
    "            match_table = match_table.append([[ row_data[0], row_data[1], row_data[2] ]]) #Entry to Match table if match found\n",
    "            \n",
    "            \n",
    "    if count == False: #If anything didnt match, add row to mismatch table.\n",
    "        unmatch = unmatch + 1\n",
    "        mismatch_table = mismatch_table.append([[ row_data[0], row_data[1], row_data[2] ]]) #Entry to Mismatch table if match not found\n",
    "        \n",
    "print(\"\\nTotal Automatic Match - \", success_count)\n",
    "print(\"Total Automatic unmatch - \", unmatch)\n",
    "\n"
   ]
  },
  {
   "cell_type": "code",
   "execution_count": 49,
   "metadata": {},
   "outputs": [
    {
     "data": {
      "text/html": [
       "<div>\n",
       "<style scoped>\n",
       "    .dataframe tbody tr th:only-of-type {\n",
       "        vertical-align: middle;\n",
       "    }\n",
       "\n",
       "    .dataframe tbody tr th {\n",
       "        vertical-align: top;\n",
       "    }\n",
       "\n",
       "    .dataframe thead th {\n",
       "        text-align: right;\n",
       "    }\n",
       "</style>\n",
       "<table border=\"1\" class=\"dataframe\">\n",
       "  <thead>\n",
       "    <tr style=\"text-align: right;\">\n",
       "      <th></th>\n",
       "      <th>0</th>\n",
       "      <th>1</th>\n",
       "      <th>2</th>\n",
       "    </tr>\n",
       "  </thead>\n",
       "  <tbody>\n",
       "    <tr>\n",
       "      <th>0</th>\n",
       "      <td>Name 193</td>\n",
       "      <td>bkash</td>\n",
       "      <td>8AF8WKTNFO</td>\n",
       "    </tr>\n",
       "    <tr>\n",
       "      <th>0</th>\n",
       "      <td>Name 635</td>\n",
       "      <td>bkash</td>\n",
       "      <td>8AK72QCAMF</td>\n",
       "    </tr>\n",
       "    <tr>\n",
       "      <th>0</th>\n",
       "      <td>Name 648</td>\n",
       "      <td>bkash</td>\n",
       "      <td>8AK22RZ6K2</td>\n",
       "    </tr>\n",
       "    <tr>\n",
       "      <th>0</th>\n",
       "      <td>Name 469</td>\n",
       "      <td>bkash</td>\n",
       "      <td>8AJ31POCLF</td>\n",
       "    </tr>\n",
       "    <tr>\n",
       "      <th>0</th>\n",
       "      <td>Name 331</td>\n",
       "      <td>bkash</td>\n",
       "      <td>8AH30DKOUB</td>\n",
       "    </tr>\n",
       "    <tr>\n",
       "      <th>0</th>\n",
       "      <td>Name 251</td>\n",
       "      <td>bkash</td>\n",
       "      <td>8AG7WXRY6Z</td>\n",
       "    </tr>\n",
       "    <tr>\n",
       "      <th>0</th>\n",
       "      <td>Name 689</td>\n",
       "      <td>bkash</td>\n",
       "      <td>8AK22VLDV4</td>\n",
       "    </tr>\n",
       "    <tr>\n",
       "      <th>0</th>\n",
       "      <td>Name 361</td>\n",
       "      <td>bkash</td>\n",
       "      <td>8AH00Y35PI</td>\n",
       "    </tr>\n",
       "    <tr>\n",
       "      <th>0</th>\n",
       "      <td>Name 630</td>\n",
       "      <td>bkash</td>\n",
       "      <td>8AK92Q4UOD</td>\n",
       "    </tr>\n",
       "    <tr>\n",
       "      <th>0</th>\n",
       "      <td>Name 143</td>\n",
       "      <td>bkash</td>\n",
       "      <td>8AE4W7C3CI</td>\n",
       "    </tr>\n",
       "  </tbody>\n",
       "</table>\n",
       "</div>"
      ],
      "text/plain": [
       "          0      1           2\n",
       "0  Name 193  bkash  8AF8WKTNFO\n",
       "0  Name 635  bkash  8AK72QCAMF\n",
       "0  Name 648  bkash  8AK22RZ6K2\n",
       "0  Name 469  bkash  8AJ31POCLF\n",
       "0  Name 331  bkash  8AH30DKOUB\n",
       "0  Name 251  bkash  8AG7WXRY6Z\n",
       "0  Name 689  bkash  8AK22VLDV4\n",
       "0  Name 361  bkash  8AH00Y35PI\n",
       "0  Name 630  bkash  8AK92Q4UOD\n",
       "0  Name 143  bkash  8AE4W7C3CI"
      ]
     },
     "execution_count": 49,
     "metadata": {},
     "output_type": "execute_result"
    }
   ],
   "source": [
    "match_table.sample(10)"
   ]
  },
  {
   "cell_type": "code",
   "execution_count": 69,
   "metadata": {},
   "outputs": [
    {
     "data": {
      "text/html": [
       "<div>\n",
       "<style scoped>\n",
       "    .dataframe tbody tr th:only-of-type {\n",
       "        vertical-align: middle;\n",
       "    }\n",
       "\n",
       "    .dataframe tbody tr th {\n",
       "        vertical-align: top;\n",
       "    }\n",
       "\n",
       "    .dataframe thead th {\n",
       "        text-align: right;\n",
       "    }\n",
       "</style>\n",
       "<table border=\"1\" class=\"dataframe\">\n",
       "  <thead>\n",
       "    <tr style=\"text-align: right;\">\n",
       "      <th></th>\n",
       "      <th>0</th>\n",
       "      <th>1</th>\n",
       "      <th>2</th>\n",
       "    </tr>\n",
       "  </thead>\n",
       "  <tbody>\n",
       "    <tr>\n",
       "      <th>0</th>\n",
       "      <td>Name 729</td>\n",
       "      <td>bkash</td>\n",
       "      <td>8AM5401Q77</td>\n",
       "    </tr>\n",
       "    <tr>\n",
       "      <th>0</th>\n",
       "      <td>Name 364</td>\n",
       "      <td>bkash</td>\n",
       "      <td>8AH90Z7V0V</td>\n",
       "    </tr>\n",
       "    <tr>\n",
       "      <th>0</th>\n",
       "      <td>Name 437</td>\n",
       "      <td>Rocket</td>\n",
       "      <td>2112520715</td>\n",
       "    </tr>\n",
       "    <tr>\n",
       "      <th>0</th>\n",
       "      <td>Name 290</td>\n",
       "      <td>bkash</td>\n",
       "      <td>8AG006FIGA</td>\n",
       "    </tr>\n",
       "    <tr>\n",
       "      <th>0</th>\n",
       "      <td>Name 235</td>\n",
       "      <td>Rocket</td>\n",
       "      <td>2108485484</td>\n",
       "    </tr>\n",
       "    <tr>\n",
       "      <th>0</th>\n",
       "      <td>Name 161</td>\n",
       "      <td>bkash</td>\n",
       "      <td>8AF4WBP8SA</td>\n",
       "    </tr>\n",
       "    <tr>\n",
       "      <th>0</th>\n",
       "      <td>Name 380</td>\n",
       "      <td>bkash</td>\n",
       "      <td>8AI516FA17</td>\n",
       "    </tr>\n",
       "    <tr>\n",
       "      <th>0</th>\n",
       "      <td>Name 599</td>\n",
       "      <td>bkash</td>\n",
       "      <td>8AK12J0HY9</td>\n",
       "    </tr>\n",
       "    <tr>\n",
       "      <th>0</th>\n",
       "      <td>Name 381</td>\n",
       "      <td>bkash</td>\n",
       "      <td>8AI916IJ9L</td>\n",
       "    </tr>\n",
       "    <tr>\n",
       "      <th>0</th>\n",
       "      <td>Name 73</td>\n",
       "      <td>Nogod</td>\n",
       "      <td>70NUT1I6</td>\n",
       "    </tr>\n",
       "  </tbody>\n",
       "</table>\n",
       "</div>"
      ],
      "text/plain": [
       "          0       1           2\n",
       "0  Name 729   bkash  8AM5401Q77\n",
       "0  Name 364   bkash  8AH90Z7V0V\n",
       "0  Name 437  Rocket  2112520715\n",
       "0  Name 290   bkash  8AG006FIGA\n",
       "0  Name 235  Rocket  2108485484\n",
       "0  Name 161   bkash  8AF4WBP8SA\n",
       "0  Name 380   bkash  8AI516FA17\n",
       "0  Name 599   bkash  8AK12J0HY9\n",
       "0  Name 381   bkash  8AI916IJ9L\n",
       "0   Name 73   Nogod    70NUT1I6"
      ]
     },
     "execution_count": 69,
     "metadata": {},
     "output_type": "execute_result"
    }
   ],
   "source": [
    "mismatch_table.sample(10)"
   ]
  }
 ],
 "metadata": {
  "kernelspec": {
   "display_name": "Python 3",
   "language": "python",
   "name": "python3"
  },
  "language_info": {
   "codemirror_mode": {
    "name": "ipython",
    "version": 3
   },
   "file_extension": ".py",
   "mimetype": "text/x-python",
   "name": "python",
   "nbconvert_exporter": "python",
   "pygments_lexer": "ipython3",
   "version": "3.8.5"
  }
 },
 "nbformat": 4,
 "nbformat_minor": 4
}
