{
 "cells": [
  {
   "cell_type": "markdown",
   "metadata": {},
   "source": [
    "# Input File Names"
   ]
  },
  {
   "cell_type": "code",
   "execution_count": 136,
   "metadata": {},
   "outputs": [],
   "source": [
    "import pandas as pd\n",
    "import numpy as np\n",
    "\n",
    "Google_Forms_File_Name = 'Google_Forms_Responses.xlsx' # Name of downloaded file from Google Forms in Excel format\n",
    "AllSMS_CVS_File_Name =  'All_Phone_SMS.csv'   # File Generated from Super Backup"
   ]
  },
  {
   "cell_type": "markdown",
   "metadata": {},
   "source": [
    "# Read Data from Google Forms File"
   ]
  },
  {
   "cell_type": "code",
   "execution_count": 137,
   "metadata": {},
   "outputs": [
    {
     "name": "stdout",
     "output_type": "stream",
     "text": [
      "Totle Number of Entries: 378\n"
     ]
    }
   ],
   "source": [
    "table = pd.read_excel(Google_Forms_File_Name) # Read the Excel File\n",
    "txidlist = table[[\"Name\", \"Transaction Medium\", \"Txn Id:\"]] # Select the tables that I want to display or work on\n",
    "List_GoogleForms_TxIDs = list(txidlist['Txn Id:']) #Put all the TxID from Google Forms in a List\n",
    "\n",
    "print(\"Totle Number of Entries:\", len(List_GoogleForms_TxIDs) )"
   ]
  },
  {
   "cell_type": "markdown",
   "metadata": {},
   "source": [
    "# Read The SMS"
   ]
  },
  {
   "cell_type": "code",
   "execution_count": 138,
   "metadata": {},
   "outputs": [],
   "source": [
    "sms = pd.read_csv(AllSMS_CVS_File_Name)\n",
    "\n",
    "bKashList = sms.loc[sms['phoneNumber'] == 'bKash' ][[\"phoneNumber\", \"message\"]] # Seperate bKash SMS\n",
    "NagadList = sms.loc[sms['phoneNumber'] == 'NAGAD' ][[\"phoneNumber\", \"message\"]] # Seperate Nagad SMS\n",
    "\n",
    "BaN = [bKashList, NagadList] # Put both Bkash & Nagad Lists together\n",
    "MergeBkashNagad = pd.concat(BaN) # Merge them together\n",
    "\n",
    "All_Bkash_Nagad_SMS = list(bKashList['message']) #Convert the SMS to list"
   ]
  },
  {
   "cell_type": "code",
   "execution_count": 143,
   "metadata": {},
   "outputs": [
    {
     "name": "stdout",
     "output_type": "stream",
     "text": [
      "\n",
      "Total Automatic Match -  307\n",
      "Total Automatic unmatch -  71\n"
     ]
    }
   ],
   "source": [
    "success_count = 0\n",
    "unmatch = 0\n",
    "mismatch_table = pd.DataFrame( [[\"Name\", \"Transaction Medium\", \"Google Forms Entry\"]] )\n",
    "match_table = pd.DataFrame( [[\"Name\", \"Transaction Medium\", \"Txn Id:\"]] )\n",
    "\n",
    "for indx, row_data in txidlist.iterrows(): # Itterate over the Google Forms Table\n",
    "                                           # | row_data[0]: Name | row_data[1]: Transaction Medium | row_data[2]: Txn Id |\n",
    "    count = False\n",
    "    for each_sms in All_Bkash_Nagad_SMS: # Select each each SMS\n",
    "        if row_data[2] in each_sms.split(' '): # Break words in list and check if any TxID match with any word\n",
    "            success_count = success_count + 1\n",
    "            count = True\n",
    "            match_table = match_table.append([[ row_data[0], row_data[1], row_data[2] ]]) #Entry to Match table if match found\n",
    "            \n",
    "            \n",
    "    if count == False: #If anything didnt match, add row to mismatch table.\n",
    "        unmatch = unmatch + 1\n",
    "        mismatch_table = mismatch_table.append([[ row_data[0], row_data[1], row_data[2] ]]) #Entry to Mismatch table if match not found\n",
    "        \n",
    "print(\"\\nTotal Automatic Match - \", success_count)\n",
    "print(\"Total Automatic unmatch - \", unmatch)\n",
    "\n"
   ]
  },
  {
   "cell_type": "code",
   "execution_count": 140,
   "metadata": {},
   "outputs": [
    {
     "data": {
      "text/html": [
       "<div>\n",
       "<style scoped>\n",
       "    .dataframe tbody tr th:only-of-type {\n",
       "        vertical-align: middle;\n",
       "    }\n",
       "\n",
       "    .dataframe tbody tr th {\n",
       "        vertical-align: top;\n",
       "    }\n",
       "\n",
       "    .dataframe thead th {\n",
       "        text-align: right;\n",
       "    }\n",
       "</style>\n",
       "<table border=\"1\" class=\"dataframe\">\n",
       "  <thead>\n",
       "    <tr style=\"text-align: right;\">\n",
       "      <th></th>\n",
       "      <th>0</th>\n",
       "      <th>1</th>\n",
       "      <th>2</th>\n",
       "    </tr>\n",
       "  </thead>\n",
       "  <tbody>\n",
       "    <tr>\n",
       "      <th>0</th>\n",
       "      <td>Name</td>\n",
       "      <td>Transaction Medium</td>\n",
       "      <td>Txn Id:</td>\n",
       "    </tr>\n",
       "    <tr>\n",
       "      <th>0</th>\n",
       "      <td>Badhan Kumar Das</td>\n",
       "      <td>bkash</td>\n",
       "      <td>8AA5TNQOJT</td>\n",
       "    </tr>\n",
       "    <tr>\n",
       "      <th>0</th>\n",
       "      <td>Ahnaf Tahmid Saad</td>\n",
       "      <td>bkash</td>\n",
       "      <td>8AA1TNUIXD</td>\n",
       "    </tr>\n",
       "    <tr>\n",
       "      <th>0</th>\n",
       "      <td>MD Nazmul Haque</td>\n",
       "      <td>bkash</td>\n",
       "      <td>8AA0TNZZ4O</td>\n",
       "    </tr>\n",
       "    <tr>\n",
       "      <th>0</th>\n",
       "      <td>Md. Shamiul Islam</td>\n",
       "      <td>bkash</td>\n",
       "      <td>8AA7TOL6M5</td>\n",
       "    </tr>\n",
       "    <tr>\n",
       "      <th>...</th>\n",
       "      <td>...</td>\n",
       "      <td>...</td>\n",
       "      <td>...</td>\n",
       "    </tr>\n",
       "    <tr>\n",
       "      <th>0</th>\n",
       "      <td>Noor Mohammad Belal Towsif</td>\n",
       "      <td>bkash</td>\n",
       "      <td>8AH40Z2WHI</td>\n",
       "    </tr>\n",
       "    <tr>\n",
       "      <th>0</th>\n",
       "      <td>Abu Hena Mohammad Safa Sanjid</td>\n",
       "      <td>bkash</td>\n",
       "      <td>8AH50ZHHF1</td>\n",
       "    </tr>\n",
       "    <tr>\n",
       "      <th>0</th>\n",
       "      <td>Md. Johurul Alam</td>\n",
       "      <td>bkash</td>\n",
       "      <td>8AH20Z5ZRA</td>\n",
       "    </tr>\n",
       "    <tr>\n",
       "      <th>0</th>\n",
       "      <td>Tanjil Rahman</td>\n",
       "      <td>bkash</td>\n",
       "      <td>8AH50ZNS5J</td>\n",
       "    </tr>\n",
       "    <tr>\n",
       "      <th>0</th>\n",
       "      <td>Shah Md. Safi Sadman</td>\n",
       "      <td>bkash</td>\n",
       "      <td>8AI0108T7K</td>\n",
       "    </tr>\n",
       "  </tbody>\n",
       "</table>\n",
       "<p>308 rows × 3 columns</p>\n",
       "</div>"
      ],
      "text/plain": [
       "                                0                   1           2\n",
       "0                            Name  Transaction Medium     Txn Id:\n",
       "0                Badhan Kumar Das               bkash  8AA5TNQOJT\n",
       "0              Ahnaf Tahmid Saad                bkash  8AA1TNUIXD\n",
       "0                 MD Nazmul Haque               bkash  8AA0TNZZ4O\n",
       "0               Md. Shamiul Islam               bkash  8AA7TOL6M5\n",
       "..                            ...                 ...         ...\n",
       "0     Noor Mohammad Belal Towsif                bkash  8AH40Z2WHI\n",
       "0   Abu Hena Mohammad Safa Sanjid               bkash  8AH50ZHHF1\n",
       "0                Md. Johurul Alam               bkash  8AH20Z5ZRA\n",
       "0                  Tanjil Rahman                bkash  8AH50ZNS5J\n",
       "0            Shah Md. Safi Sadman               bkash  8AI0108T7K\n",
       "\n",
       "[308 rows x 3 columns]"
      ]
     },
     "execution_count": 140,
     "metadata": {},
     "output_type": "execute_result"
    }
   ],
   "source": [
    "match_table"
   ]
  },
  {
   "cell_type": "code",
   "execution_count": 141,
   "metadata": {},
   "outputs": [
    {
     "data": {
      "text/html": [
       "<div>\n",
       "<style scoped>\n",
       "    .dataframe tbody tr th:only-of-type {\n",
       "        vertical-align: middle;\n",
       "    }\n",
       "\n",
       "    .dataframe tbody tr th {\n",
       "        vertical-align: top;\n",
       "    }\n",
       "\n",
       "    .dataframe thead th {\n",
       "        text-align: right;\n",
       "    }\n",
       "</style>\n",
       "<table border=\"1\" class=\"dataframe\">\n",
       "  <thead>\n",
       "    <tr style=\"text-align: right;\">\n",
       "      <th></th>\n",
       "      <th>0</th>\n",
       "      <th>1</th>\n",
       "      <th>2</th>\n",
       "    </tr>\n",
       "  </thead>\n",
       "  <tbody>\n",
       "    <tr>\n",
       "      <th>0</th>\n",
       "      <td>Name</td>\n",
       "      <td>Transaction Medium</td>\n",
       "      <td>Google Forms Entry</td>\n",
       "    </tr>\n",
       "    <tr>\n",
       "      <th>0</th>\n",
       "      <td>Mehedi Hasan</td>\n",
       "      <td>Rocket</td>\n",
       "      <td>2099308514</td>\n",
       "    </tr>\n",
       "    <tr>\n",
       "      <th>0</th>\n",
       "      <td>Mubashshir Shahriyar</td>\n",
       "      <td>bkash</td>\n",
       "      <td>1677300010</td>\n",
       "    </tr>\n",
       "    <tr>\n",
       "      <th>0</th>\n",
       "      <td>Obanti Orani sayeed</td>\n",
       "      <td>Rocket</td>\n",
       "      <td>2099666931</td>\n",
       "    </tr>\n",
       "    <tr>\n",
       "      <th>0</th>\n",
       "      <td>Minhajur Rahman Mahi</td>\n",
       "      <td>bkash</td>\n",
       "      <td>1715724712</td>\n",
       "    </tr>\n",
       "    <tr>\n",
       "      <th>...</th>\n",
       "      <td>...</td>\n",
       "      <td>...</td>\n",
       "      <td>...</td>\n",
       "    </tr>\n",
       "    <tr>\n",
       "      <th>0</th>\n",
       "      <td>Sedratul Muntaha Totini</td>\n",
       "      <td>bkash</td>\n",
       "      <td>8AH70T130Z</td>\n",
       "    </tr>\n",
       "    <tr>\n",
       "      <th>0</th>\n",
       "      <td>Rubayat Ecolo</td>\n",
       "      <td>Nogod</td>\n",
       "      <td>70NX3I7H</td>\n",
       "    </tr>\n",
       "    <tr>\n",
       "      <th>0</th>\n",
       "      <td>Nafisha Tabassum Tanjila</td>\n",
       "      <td>bkash</td>\n",
       "      <td>84H80V6PMO</td>\n",
       "    </tr>\n",
       "    <tr>\n",
       "      <th>0</th>\n",
       "      <td>Nihal Shafket Niloy</td>\n",
       "      <td>bkash</td>\n",
       "      <td>8AHO0XZHAU</td>\n",
       "    </tr>\n",
       "    <tr>\n",
       "      <th>0</th>\n",
       "      <td>Abdul Sattar Sanny</td>\n",
       "      <td>bkash</td>\n",
       "      <td>8AH90Z7V0V</td>\n",
       "    </tr>\n",
       "  </tbody>\n",
       "</table>\n",
       "<p>72 rows × 3 columns</p>\n",
       "</div>"
      ],
      "text/plain": [
       "                           0                   1                   2\n",
       "0                       Name  Transaction Medium  Google Forms Entry\n",
       "0               Mehedi Hasan              Rocket          2099308514\n",
       "0      Mubashshir Shahriyar                bkash          1677300010\n",
       "0        Obanti Orani sayeed              Rocket          2099666931\n",
       "0       Minhajur Rahman Mahi               bkash          1715724712\n",
       "..                       ...                 ...                 ...\n",
       "0    Sedratul Muntaha Totini               bkash          8AH70T130Z\n",
       "0              Rubayat Ecolo               Nogod            70NX3I7H\n",
       "0   Nafisha Tabassum Tanjila               bkash          84H80V6PMO\n",
       "0       Nihal Shafket Niloy                bkash          8AHO0XZHAU\n",
       "0         Abdul Sattar Sanny               bkash          8AH90Z7V0V\n",
       "\n",
       "[72 rows x 3 columns]"
      ]
     },
     "execution_count": 141,
     "metadata": {},
     "output_type": "execute_result"
    }
   ],
   "source": [
    "mismatch_table"
   ]
  }
 ],
 "metadata": {
  "kernelspec": {
   "display_name": "Python 3",
   "language": "python",
   "name": "python3"
  },
  "language_info": {
   "codemirror_mode": {
    "name": "ipython",
    "version": 3
   },
   "file_extension": ".py",
   "mimetype": "text/x-python",
   "name": "python",
   "nbconvert_exporter": "python",
   "pygments_lexer": "ipython3",
   "version": "3.8.5"
  }
 },
 "nbformat": 4,
 "nbformat_minor": 4
}
